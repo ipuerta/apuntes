{
  "nbformat": 4,
  "nbformat_minor": 0,
  "metadata": {
    "colab": {
      "provenance": [],
      "collapsed_sections": [],
      "authorship_tag": "ABX9TyMwQCeDyCKmRlh4kefhWsC8",
      "include_colab_link": true
    },
    "kernelspec": {
      "name": "python3",
      "display_name": "Python 3"
    },
    "language_info": {
      "name": "python"
    }
  },
  "cells": [
    {
      "cell_type": "markdown",
      "metadata": {
        "id": "view-in-github",
        "colab_type": "text"
      },
      "source": [
        "<a href=\"https://colab.research.google.com/github/ipuerta/apuntes/blob/main/notebooks/Apuntes_Tensores.ipynb\" target=\"_parent\"><img src=\"https://colab.research.google.com/assets/colab-badge.svg\" alt=\"Open In Colab\"/></a>"
      ]
    },
    {
      "cell_type": "markdown",
      "source": [
        "**Tensores (vectores, matrices) con NumPy, PyTorch y TensorFlow**"
      ],
      "metadata": {
        "id": "oKrf2k44hDpU"
      }
    },
    {
      "cell_type": "code",
      "execution_count": 2,
      "metadata": {
        "id": "opQHxeCxg6Bu"
      },
      "outputs": [],
      "source": [
        "import numpy as np\n",
        "import torch\n",
        "import tensorflow as tf\n",
        "import matplotlib.pyplot as plt"
      ]
    },
    {
      "cell_type": "markdown",
      "source": [
        "**Crear un vector**"
      ],
      "metadata": {
        "id": "xCezeuoChqts"
      }
    },
    {
      "cell_type": "markdown",
      "source": [
        "Con NumPy"
      ],
      "metadata": {
        "id": "LtPpIqenh8xy"
      }
    },
    {
      "cell_type": "code",
      "source": [
        "np_x = np.array([25, 2, 5])\n",
        "np_x"
      ],
      "metadata": {
        "colab": {
          "base_uri": "https://localhost:8080/"
        },
        "id": "IF18h6fGh0jO",
        "outputId": "dc759ad1-eb37-4da6-d287-edc73386bad2"
      },
      "execution_count": 6,
      "outputs": [
        {
          "output_type": "execute_result",
          "data": {
            "text/plain": [
              "array([25,  2,  5])"
            ]
          },
          "metadata": {},
          "execution_count": 6
        }
      ]
    },
    {
      "cell_type": "code",
      "source": [
        "np_x_float = np.array([25, 2, 5], dtype=np.float16)\n",
        "np_x_float"
      ],
      "metadata": {
        "colab": {
          "base_uri": "https://localhost:8080/"
        },
        "id": "DJcljRbYiSfl",
        "outputId": "d99a680a-3900-49a8-8ff6-ae465eb1f60f"
      },
      "execution_count": 7,
      "outputs": [
        {
          "output_type": "execute_result",
          "data": {
            "text/plain": [
              "array([25.,  2.,  5.], dtype=float16)"
            ]
          },
          "metadata": {},
          "execution_count": 7
        }
      ]
    },
    {
      "cell_type": "code",
      "source": [
        "len(np_x)"
      ],
      "metadata": {
        "colab": {
          "base_uri": "https://localhost:8080/"
        },
        "id": "z74s3KsAicXD",
        "outputId": "8ade4274-e350-4b4e-e4e2-0b0dc37f4a0e"
      },
      "execution_count": 8,
      "outputs": [
        {
          "output_type": "execute_result",
          "data": {
            "text/plain": [
              "3"
            ]
          },
          "metadata": {},
          "execution_count": 8
        }
      ]
    },
    {
      "cell_type": "code",
      "source": [
        "type(np_x)"
      ],
      "metadata": {
        "colab": {
          "base_uri": "https://localhost:8080/"
        },
        "id": "SmROzqwwihtN",
        "outputId": "22adb912-d4fb-4ad3-d99c-db4e3dd3eb6d"
      },
      "execution_count": 10,
      "outputs": [
        {
          "output_type": "execute_result",
          "data": {
            "text/plain": [
              "numpy.ndarray"
            ]
          },
          "metadata": {},
          "execution_count": 10
        }
      ]
    },
    {
      "cell_type": "code",
      "source": [
        "np_x.shape"
      ],
      "metadata": {
        "colab": {
          "base_uri": "https://localhost:8080/"
        },
        "id": "f6BCHRxxiom7",
        "outputId": "8a89c214-5185-4044-b659-b25d8f375b32"
      },
      "execution_count": 11,
      "outputs": [
        {
          "output_type": "execute_result",
          "data": {
            "text/plain": [
              "(3,)"
            ]
          },
          "metadata": {},
          "execution_count": 11
        }
      ]
    },
    {
      "cell_type": "code",
      "source": [
        "np_x_float[0]"
      ],
      "metadata": {
        "colab": {
          "base_uri": "https://localhost:8080/"
        },
        "id": "FTeJ_rjPiwBA",
        "outputId": "d6149a13-7fd8-4d36-94e8-e46574691b1b"
      },
      "execution_count": 15,
      "outputs": [
        {
          "output_type": "execute_result",
          "data": {
            "text/plain": [
              "25.0"
            ]
          },
          "metadata": {},
          "execution_count": 15
        }
      ]
    },
    {
      "cell_type": "code",
      "source": [
        "type(np_x_float[0])"
      ],
      "metadata": {
        "colab": {
          "base_uri": "https://localhost:8080/"
        },
        "id": "RCDvveWDi0yp",
        "outputId": "eaecf319-d8b9-405e-f59b-a0a384682e29"
      },
      "execution_count": 14,
      "outputs": [
        {
          "output_type": "execute_result",
          "data": {
            "text/plain": [
              "numpy.float16"
            ]
          },
          "metadata": {},
          "execution_count": 14
        }
      ]
    },
    {
      "cell_type": "markdown",
      "source": [
        "**Ejercicios**"
      ],
      "metadata": {
        "id": "3WRNwaT7jDPJ"
      }
    },
    {
      "cell_type": "markdown",
      "source": [
        "Demostrar que una matriz identidad es ortogonal:\n",
        "1.   Calcular el \"dot product\" multiplicando cada fila con el resto, el resultado debe ser 0 --> las filas son ortogonales\n",
        "2.   Calcular el \"L2 norm\" de cada columna, el resultado debe ser 1 --> las columnas son ortonormales\n",
        "\n",
        "Nota: Todas las filas y columnas tienen que ser (y son) ortogonales y ortonormales, pero sólo calcularemos estos dos puntos.\n"
      ],
      "metadata": {
        "id": "U5nWNGvojLyR"
      }
    },
    {
      "cell_type": "code",
      "source": [
        "# Creo matriz identidad\n",
        "m_identidad = np.array([[1, 0, 0],[0, 1, 0],[0, 0, 1]])\n",
        "m_identidad"
      ],
      "metadata": {
        "colab": {
          "base_uri": "https://localhost:8080/"
        },
        "id": "D9-ZABJ7jCMT",
        "outputId": "697f73ad-84c9-4b3b-9bfd-2fcf284d6eac"
      },
      "execution_count": 16,
      "outputs": [
        {
          "output_type": "execute_result",
          "data": {
            "text/plain": [
              "array([[1, 0, 0],\n",
              "       [0, 1, 0],\n",
              "       [0, 0, 1]])"
            ]
          },
          "metadata": {},
          "execution_count": 16
        }
      ]
    },
    {
      "cell_type": "code",
      "source": [
        "# Comprobamos que todas las columnas son ortogonales entre sí calculando el \"dot product\" entre ellas (debe ser 0)\n",
        "np.dot(m_identidad[:,0], m_identidad[:,1])"
      ],
      "metadata": {
        "colab": {
          "base_uri": "https://localhost:8080/"
        },
        "id": "0CpXaKo3jvXK",
        "outputId": "748aafb0-739b-47c0-d662-70be770e570a"
      },
      "execution_count": 19,
      "outputs": [
        {
          "output_type": "execute_result",
          "data": {
            "text/plain": [
              "0"
            ]
          },
          "metadata": {},
          "execution_count": 19
        }
      ]
    },
    {
      "cell_type": "code",
      "source": [
        "np.dot(m_identidad[:,1], m_identidad[:,2])"
      ],
      "metadata": {
        "colab": {
          "base_uri": "https://localhost:8080/"
        },
        "id": "UDIL5vhykxBZ",
        "outputId": "b0657d80-409c-4f59-f6a0-9070f7618ad8"
      },
      "execution_count": 20,
      "outputs": [
        {
          "output_type": "execute_result",
          "data": {
            "text/plain": [
              "0"
            ]
          },
          "metadata": {},
          "execution_count": 20
        }
      ]
    },
    {
      "cell_type": "code",
      "source": [
        "np.dot(m_identidad[:,2], m_identidad[:,0])"
      ],
      "metadata": {
        "colab": {
          "base_uri": "https://localhost:8080/"
        },
        "id": "H--tb-wVk4e6",
        "outputId": "3fb29430-2906-4422-f3ab-3a9cdcf81cd8"
      },
      "execution_count": 21,
      "outputs": [
        {
          "output_type": "execute_result",
          "data": {
            "text/plain": [
              "0"
            ]
          },
          "metadata": {},
          "execution_count": 21
        }
      ]
    },
    {
      "cell_type": "code",
      "source": [
        "# Calculamos el L2 de cada columna\n",
        "np.linalg.norm(m_identidad[0,:])"
      ],
      "metadata": {
        "colab": {
          "base_uri": "https://localhost:8080/"
        },
        "id": "DKa267o2k7HT",
        "outputId": "b8f25578-349c-41ed-fe38-a9ffb8e167a9"
      },
      "execution_count": 32,
      "outputs": [
        {
          "output_type": "execute_result",
          "data": {
            "text/plain": [
              "1.0"
            ]
          },
          "metadata": {},
          "execution_count": 32
        }
      ]
    },
    {
      "cell_type": "code",
      "source": [
        "np.linalg.norm(m_identidad[1,:])"
      ],
      "metadata": {
        "colab": {
          "base_uri": "https://localhost:8080/"
        },
        "id": "OQxMSmW-lBly",
        "outputId": "b8ffb266-70f3-494f-fa75-46b27eb2060e"
      },
      "execution_count": 33,
      "outputs": [
        {
          "output_type": "execute_result",
          "data": {
            "text/plain": [
              "1.0"
            ]
          },
          "metadata": {},
          "execution_count": 33
        }
      ]
    },
    {
      "cell_type": "code",
      "source": [
        "np.linalg.norm(m_identidad[2,:])"
      ],
      "metadata": {
        "colab": {
          "base_uri": "https://localhost:8080/"
        },
        "id": "GY2oZ6relDfj",
        "outputId": "4ac54327-c145-4fd2-bd7c-79dbde5d3358"
      },
      "execution_count": 34,
      "outputs": [
        {
          "output_type": "execute_result",
          "data": {
            "text/plain": [
              "1.0"
            ]
          },
          "metadata": {},
          "execution_count": 34
        }
      ]
    },
    {
      "cell_type": "markdown",
      "source": [
        "Repetir el ejercicio con la siguiente matriz:\n",
        "\n",
        "[2/3, 1/3, 2/3]\n",
        "\n",
        "[-2/3, 2/3, 1/3]\n",
        "\n",
        "[1/3, 2/3 ,2/3]"
      ],
      "metadata": {
        "id": "NbbseBKXlP8D"
      }
    },
    {
      "cell_type": "code",
      "source": [
        "# Creo matriz\n",
        "m_ejercicio = np.array([[2/3, 1/3, 2/3],[-2/3, 2/3, 1/3],[1/3, 2/3, -2/3]])\n",
        "m_ejercicio"
      ],
      "metadata": {
        "colab": {
          "base_uri": "https://localhost:8080/"
        },
        "id": "c8uP7TD8mSKx",
        "outputId": "c146c901-519b-43c0-9f82-fa0ac0d819fa"
      },
      "execution_count": 38,
      "outputs": [
        {
          "output_type": "execute_result",
          "data": {
            "text/plain": [
              "array([[ 0.66666667,  0.33333333,  0.66666667],\n",
              "       [-0.66666667,  0.66666667,  0.33333333],\n",
              "       [ 0.33333333,  0.66666667, -0.66666667]])"
            ]
          },
          "metadata": {},
          "execution_count": 38
        }
      ]
    },
    {
      "cell_type": "code",
      "source": [
        "# Comprobamos que todas las columnas son ortogonales entre sí calculando el \"dot product\" entre ellas (debe ser 0)\n",
        "np.dot(m_ejercicio[:,0], m_ejercicio[:,1])"
      ],
      "metadata": {
        "colab": {
          "base_uri": "https://localhost:8080/"
        },
        "id": "CTDuN8mHmfTM",
        "outputId": "a1ab23c3-cb22-41c2-d331-8d8ea024bfd9"
      },
      "execution_count": 39,
      "outputs": [
        {
          "output_type": "execute_result",
          "data": {
            "text/plain": [
              "0.0"
            ]
          },
          "metadata": {},
          "execution_count": 39
        }
      ]
    },
    {
      "cell_type": "code",
      "source": [
        "np.dot(m_ejercicio[:,1], m_ejercicio[:,2])"
      ],
      "metadata": {
        "colab": {
          "base_uri": "https://localhost:8080/"
        },
        "id": "kpg6_1ttmkn7",
        "outputId": "91484bce-b776-4cfe-c8bf-4b782a0a517b"
      },
      "execution_count": 40,
      "outputs": [
        {
          "output_type": "execute_result",
          "data": {
            "text/plain": [
              "0.0"
            ]
          },
          "metadata": {},
          "execution_count": 40
        }
      ]
    },
    {
      "cell_type": "code",
      "source": [
        "np.dot(m_ejercicio[:,2], m_ejercicio[:,0])"
      ],
      "metadata": {
        "colab": {
          "base_uri": "https://localhost:8080/"
        },
        "id": "LyuBZZyJmn4D",
        "outputId": "bf6c8809-6778-4672-c295-cc7c028d0c91"
      },
      "execution_count": 41,
      "outputs": [
        {
          "output_type": "execute_result",
          "data": {
            "text/plain": [
              "0.0"
            ]
          },
          "metadata": {},
          "execution_count": 41
        }
      ]
    },
    {
      "cell_type": "code",
      "source": [
        "# Calculamos el L2 de las filas\n",
        "np.linalg.norm(m_ejercicio[0,:])"
      ],
      "metadata": {
        "colab": {
          "base_uri": "https://localhost:8080/"
        },
        "id": "f3eIt_KUmsfd",
        "outputId": "adf11b62-bb16-484f-82d7-591ebfb2c72e"
      },
      "execution_count": 42,
      "outputs": [
        {
          "output_type": "execute_result",
          "data": {
            "text/plain": [
              "1.0"
            ]
          },
          "metadata": {},
          "execution_count": 42
        }
      ]
    },
    {
      "cell_type": "code",
      "source": [
        "np.linalg.norm(m_ejercicio[1,:])"
      ],
      "metadata": {
        "colab": {
          "base_uri": "https://localhost:8080/"
        },
        "id": "t8zy9HNImwNl",
        "outputId": "eb4e4384-fb0b-4eea-e02c-20a9688dc802"
      },
      "execution_count": 43,
      "outputs": [
        {
          "output_type": "execute_result",
          "data": {
            "text/plain": [
              "1.0"
            ]
          },
          "metadata": {},
          "execution_count": 43
        }
      ]
    },
    {
      "cell_type": "code",
      "source": [
        "np.linalg.norm(m_ejercicio[2,:])"
      ],
      "metadata": {
        "colab": {
          "base_uri": "https://localhost:8080/"
        },
        "id": "o6KjuPUumyNM",
        "outputId": "0b92c59a-512a-4a35-a178-b181aa987bdb"
      },
      "execution_count": 44,
      "outputs": [
        {
          "output_type": "execute_result",
          "data": {
            "text/plain": [
              "1.0"
            ]
          },
          "metadata": {},
          "execution_count": 44
        }
      ]
    }
  ]
}