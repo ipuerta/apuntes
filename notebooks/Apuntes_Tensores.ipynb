{
  "nbformat": 4,
  "nbformat_minor": 0,
  "metadata": {
    "colab": {
      "provenance": [],
      "collapsed_sections": [],
      "toc_visible": true,
      "authorship_tag": "ABX9TyPNDA3RqpIrx+xj+rNJ9ATD",
      "include_colab_link": true
    },
    "kernelspec": {
      "name": "python3",
      "display_name": "Python 3"
    },
    "language_info": {
      "name": "python"
    }
  },
  "cells": [
    {
      "cell_type": "markdown",
      "metadata": {
        "id": "view-in-github",
        "colab_type": "text"
      },
      "source": [
        "<a href=\"https://colab.research.google.com/github/ipuerta/apuntes/blob/main/notebooks/Apuntes_Tensores.ipynb\" target=\"_parent\"><img src=\"https://colab.research.google.com/assets/colab-badge.svg\" alt=\"Open In Colab\"/></a>"
      ]
    },
    {
      "cell_type": "markdown",
      "source": [
        "**Tensores (vectores, matrices) con NumPy, PyTorch y TensorFlow**"
      ],
      "metadata": {
        "id": "oKrf2k44hDpU"
      }
    },
    {
      "cell_type": "code",
      "execution_count": null,
      "metadata": {
        "id": "opQHxeCxg6Bu"
      },
      "outputs": [],
      "source": [
        "import numpy as np\n",
        "import torch\n",
        "import tensorflow as tf\n",
        "import matplotlib.pyplot as plt"
      ]
    },
    {
      "cell_type": "markdown",
      "source": [
        "# Cómo crear un gráfico"
      ],
      "metadata": {
        "id": "ZPDp61ccioJP"
      }
    },
    {
      "cell_type": "markdown",
      "source": [
        "Para crear gráficos utilizaremos la librería matplotlib.pyplot."
      ],
      "metadata": {
        "id": "ORg0Xe3Pit23"
      }
    },
    {
      "cell_type": "code",
      "source": [
        "# Definimos la longitud del eje Y\n",
        "y = np.linspace(0, 40, 1000) # valor inicial, valor final, número de puntos"
      ],
      "metadata": {
        "id": "Uh8J1cMUitOv"
      },
      "execution_count": null,
      "outputs": []
    },
    {
      "cell_type": "code",
      "source": [
        "# Definimos la fórmula de cada línea\n",
        "x1 = 2.5 * y \n",
        "x2 = 3 * (y - 5)\n",
        "x3 = 20-y"
      ],
      "metadata": {
        "id": "VwJxE0aljLhP"
      },
      "execution_count": null,
      "outputs": []
    },
    {
      "cell_type": "code",
      "source": [
        "# Definimos las propiedades del gráfico\n",
        "fig, ax = plt.subplots()\n",
        "plt.title('Ejemplo gráfico')\n",
        "plt.xlabel('Eje X')\n",
        "plt.ylabel('Eje Y')\n",
        "# Ponemos límites al eje X e Y\n",
        "ax.set_xlim([0, 40])\n",
        "ax.set_ylim([0, 100])\n",
        "# Dibujamos las las líneas\n",
        "ax.plot(y, x1, c='green')\n",
        "ax.plot(y, x2, c='brown')\n",
        "ax.plot(y, x3, c='red')\n",
        "# Se pueden añadir también líneas paralelas a los ejes\n",
        "plt.axvline(x=30, color='purple', linestyle='--')\n",
        "_ = plt.axhline(y=75, color='purple', linestyle='--')"
      ],
      "metadata": {
        "id": "66mFRExfjsbf",
        "outputId": "08e47d62-a347-4072-fac0-9157db70c068",
        "colab": {
          "base_uri": "https://localhost:8080/",
          "height": 295
        }
      },
      "execution_count": null,
      "outputs": [
        {
          "output_type": "display_data",
          "data": {
            "text/plain": [
              "<Figure size 432x288 with 1 Axes>"
            ],
            "image/png": "[encoded data removed]"
          },
          "metadata": {
            "needs_background": "light"
          }
        }
      ]
    },
    {
      "cell_type": "markdown",
      "source": [
        "# Crear un vector"
      ],
      "metadata": {
        "id": "isdekYLbhLHV"
      }
    },
    {
      "cell_type": "markdown",
      "source": [
        "Cómo crear un vector y ver sus propiedades"
      ],
      "metadata": {
        "id": "xCezeuoChqts"
      }
    },
    {
      "cell_type": "markdown",
      "source": [
        "**Con NumPy**"
      ],
      "metadata": {
        "id": "LtPpIqenh8xy"
      }
    },
    {
      "cell_type": "code",
      "source": [
        "# Crear un vector de números enteros\n",
        "np_x = np.array([25, 2, 5])\n",
        "np_x"
      ],
      "metadata": {
        "colab": {
          "base_uri": "https://localhost:8080/"
        },
        "id": "IF18h6fGh0jO",
        "outputId": "91be3281-cb71-4921-f871-ebb4025e9f81"
      },
      "execution_count": null,
      "outputs": [
        {
          "output_type": "execute_result",
          "data": {
            "text/plain": [
              "array([25,  2,  5])"
            ]
          },
          "metadata": {},
          "execution_count": 28
        }
      ]
    },
    {
      "cell_type": "code",
      "source": [
        "# Crear un vector de números decimales\n",
        "np_x_float = np.array([25, 2, 5], dtype=np.float16)\n",
        "np_x_float"
      ],
      "metadata": {
        "colab": {
          "base_uri": "https://localhost:8080/"
        },
        "id": "DJcljRbYiSfl",
        "outputId": "d99a680a-3900-49a8-8ff6-ae465eb1f60f"
      },
      "execution_count": null,
      "outputs": [
        {
          "output_type": "execute_result",
          "data": {
            "text/plain": [
              "array([25.,  2.,  5.], dtype=float16)"
            ]
          },
          "metadata": {},
          "execution_count": 7
        }
      ]
    },
    {
      "cell_type": "code",
      "source": [
        "# Longitud del vector\n",
        "len(np_x)"
      ],
      "metadata": {
        "colab": {
          "base_uri": "https://localhost:8080/"
        },
        "id": "z74s3KsAicXD",
        "outputId": "8ade4274-e350-4b4e-e4e2-0b0dc37f4a0e"
      },
      "execution_count": null,
      "outputs": [
        {
          "output_type": "execute_result",
          "data": {
            "text/plain": [
              "3"
            ]
          },
          "metadata": {},
          "execution_count": 8
        }
      ]
    },
    {
      "cell_type": "code",
      "source": [
        "# Tipo de variable\n",
        "type(np_x)"
      ],
      "metadata": {
        "colab": {
          "base_uri": "https://localhost:8080/"
        },
        "id": "SmROzqwwihtN",
        "outputId": "22adb912-d4fb-4ad3-d99c-db4e3dd3eb6d"
      },
      "execution_count": null,
      "outputs": [
        {
          "output_type": "execute_result",
          "data": {
            "text/plain": [
              "numpy.ndarray"
            ]
          },
          "metadata": {},
          "execution_count": 10
        }
      ]
    },
    {
      "cell_type": "code",
      "source": [
        "# Dimensiones\n",
        "np_x.shape"
      ],
      "metadata": {
        "colab": {
          "base_uri": "https://localhost:8080/"
        },
        "id": "f6BCHRxxiom7",
        "outputId": "8a89c214-5185-4044-b659-b25d8f375b32"
      },
      "execution_count": null,
      "outputs": [
        {
          "output_type": "execute_result",
          "data": {
            "text/plain": [
              "(3,)"
            ]
          },
          "metadata": {},
          "execution_count": 11
        }
      ]
    },
    {
      "cell_type": "code",
      "source": [
        "# Valor del primer elemento del vector\n",
        "np_x_float[0]"
      ],
      "metadata": {
        "colab": {
          "base_uri": "https://localhost:8080/"
        },
        "id": "FTeJ_rjPiwBA",
        "outputId": "d6149a13-7fd8-4d36-94e8-e46574691b1b"
      },
      "execution_count": null,
      "outputs": [
        {
          "output_type": "execute_result",
          "data": {
            "text/plain": [
              "25.0"
            ]
          },
          "metadata": {},
          "execution_count": 15
        }
      ]
    },
    {
      "cell_type": "code",
      "source": [
        "# Tipo del primer valor del vector\n",
        "type(np_x_float[0])"
      ],
      "metadata": {
        "colab": {
          "base_uri": "https://localhost:8080/"
        },
        "id": "RCDvveWDi0yp",
        "outputId": "eaecf319-d8b9-405e-f59b-a0a384682e29"
      },
      "execution_count": null,
      "outputs": [
        {
          "output_type": "execute_result",
          "data": {
            "text/plain": [
              "numpy.float16"
            ]
          },
          "metadata": {},
          "execution_count": 14
        }
      ]
    },
    {
      "cell_type": "code",
      "source": [
        "# Transposición\n",
        "np_x.T"
      ],
      "metadata": {
        "id": "SJbvIN7wv9iV",
        "outputId": "d199291c-5612-446f-a09a-a9971409f22f",
        "colab": {
          "base_uri": "https://localhost:8080/"
        }
      },
      "execution_count": null,
      "outputs": [
        {
          "output_type": "execute_result",
          "data": {
            "text/plain": [
              "array([25,  2,  5])"
            ]
          },
          "metadata": {},
          "execution_count": 29
        }
      ]
    },
    {
      "cell_type": "code",
      "source": [
        "# Crear vector de ceros\n",
        "np.zeros(3)"
      ],
      "metadata": {
        "id": "JhpVCHr7wH9T",
        "outputId": "a83fa53c-6f23-4764-d815-37b20ecc9fef",
        "colab": {
          "base_uri": "https://localhost:8080/"
        }
      },
      "execution_count": null,
      "outputs": [
        {
          "output_type": "execute_result",
          "data": {
            "text/plain": [
              "array([0., 0., 0.])"
            ]
          },
          "metadata": {},
          "execution_count": 30
        }
      ]
    },
    {
      "cell_type": "markdown",
      "source": [
        "**Con PyTorch**"
      ],
      "metadata": {
        "id": "omcIUy8SvtbD"
      }
    },
    {
      "cell_type": "code",
      "source": [
        "#  Crear un vector con números enteros\n",
        "pt_x = torch.tensor([1, 2, 3])\n",
        "pt_x"
      ],
      "metadata": {
        "id": "CRFim4DwwW7b",
        "outputId": "9c3d9acc-b2e5-4067-ae4d-282e94e337d9",
        "colab": {
          "base_uri": "https://localhost:8080/"
        }
      },
      "execution_count": null,
      "outputs": [
        {
          "output_type": "execute_result",
          "data": {
            "text/plain": [
              "tensor([1, 2, 3])"
            ]
          },
          "metadata": {},
          "execution_count": 31
        }
      ]
    },
    {
      "cell_type": "code",
      "source": [
        "# Crear vector con decimales\n",
        "pt_x_float = torch.tensor([1, 2, 3.])\n",
        "pt_x_float"
      ],
      "metadata": {
        "id": "6H-R_TyEwl6b",
        "outputId": "672a03d5-e811-45db-8e98-cb29d5d62f9f",
        "colab": {
          "base_uri": "https://localhost:8080/"
        }
      },
      "execution_count": null,
      "outputs": [
        {
          "output_type": "execute_result",
          "data": {
            "text/plain": [
              "tensor([1., 2., 3.])"
            ]
          },
          "metadata": {},
          "execution_count": 33
        }
      ]
    },
    {
      "cell_type": "markdown",
      "source": [
        "# Ejercicios"
      ],
      "metadata": {
        "id": "zc8uvOypmJie"
      }
    },
    {
      "cell_type": "markdown",
      "source": [
        "**EJERCICIOS CON MATRICES**"
      ],
      "metadata": {
        "id": "3WRNwaT7jDPJ"
      }
    },
    {
      "cell_type": "markdown",
      "source": [
        "**Demostrar que una matriz identidad es ortogonal**\n",
        "1.   Calcular el \"dot product\" multiplicando cada fila con el resto, el resultado debe ser 0 --> las filas son ortogonales\n",
        "2.   Calcular el \"L2 norm\" de cada columna, el resultado debe ser 1 --> las columnas son ortonormales\n",
        "\n",
        "Nota: Todas las filas y columnas tienen que ser (y son) ortogonales y ortonormales, pero sólo calcularemos estos dos puntos.\n",
        "\n",
        "Nota2: Ejercicio realizado con NumPy."
      ],
      "metadata": {
        "id": "U5nWNGvojLyR"
      }
    },
    {
      "cell_type": "code",
      "source": [
        "# Creo matriz identidad\n",
        "m_identidad = np.array([[1, 0, 0],[0, 1, 0],[0, 0, 1]])\n",
        "m_identidad"
      ],
      "metadata": {
        "colab": {
          "base_uri": "https://localhost:8080/"
        },
        "id": "D9-ZABJ7jCMT",
        "outputId": "697f73ad-84c9-4b3b-9bfd-2fcf284d6eac"
      },
      "execution_count": null,
      "outputs": [
        {
          "output_type": "execute_result",
          "data": {
            "text/plain": [
              "array([[1, 0, 0],\n",
              "       [0, 1, 0],\n",
              "       [0, 0, 1]])"
            ]
          },
          "metadata": {},
          "execution_count": 16
        }
      ]
    },
    {
      "cell_type": "code",
      "source": [
        "# Comprobamos que todas las columnas son ortogonales entre sí calculando el \"dot product\" entre ellas (debe ser 0)\n",
        "np.dot(m_identidad[:,0], m_identidad[:,1])"
      ],
      "metadata": {
        "colab": {
          "base_uri": "https://localhost:8080/"
        },
        "id": "0CpXaKo3jvXK",
        "outputId": "748aafb0-739b-47c0-d662-70be770e570a"
      },
      "execution_count": null,
      "outputs": [
        {
          "output_type": "execute_result",
          "data": {
            "text/plain": [
              "0"
            ]
          },
          "metadata": {},
          "execution_count": 19
        }
      ]
    },
    {
      "cell_type": "code",
      "source": [
        "np.dot(m_identidad[:,1], m_identidad[:,2])"
      ],
      "metadata": {
        "colab": {
          "base_uri": "https://localhost:8080/"
        },
        "id": "UDIL5vhykxBZ",
        "outputId": "b0657d80-409c-4f59-f6a0-9070f7618ad8"
      },
      "execution_count": null,
      "outputs": [
        {
          "output_type": "execute_result",
          "data": {
            "text/plain": [
              "0"
            ]
          },
          "metadata": {},
          "execution_count": 20
        }
      ]
    },
    {
      "cell_type": "code",
      "source": [
        "np.dot(m_identidad[:,2], m_identidad[:,0])"
      ],
      "metadata": {
        "colab": {
          "base_uri": "https://localhost:8080/"
        },
        "id": "H--tb-wVk4e6",
        "outputId": "3fb29430-2906-4422-f3ab-3a9cdcf81cd8"
      },
      "execution_count": null,
      "outputs": [
        {
          "output_type": "execute_result",
          "data": {
            "text/plain": [
              "0"
            ]
          },
          "metadata": {},
          "execution_count": 21
        }
      ]
    },
    {
      "cell_type": "code",
      "source": [
        "# Calculamos el L2 de cada columna\n",
        "np.linalg.norm(m_identidad[0,:])"
      ],
      "metadata": {
        "colab": {
          "base_uri": "https://localhost:8080/"
        },
        "id": "DKa267o2k7HT",
        "outputId": "b8f25578-349c-41ed-fe38-a9ffb8e167a9"
      },
      "execution_count": null,
      "outputs": [
        {
          "output_type": "execute_result",
          "data": {
            "text/plain": [
              "1.0"
            ]
          },
          "metadata": {},
          "execution_count": 32
        }
      ]
    },
    {
      "cell_type": "code",
      "source": [
        "np.linalg.norm(m_identidad[1,:])"
      ],
      "metadata": {
        "colab": {
          "base_uri": "https://localhost:8080/"
        },
        "id": "OQxMSmW-lBly",
        "outputId": "b8ffb266-70f3-494f-fa75-46b27eb2060e"
      },
      "execution_count": null,
      "outputs": [
        {
          "output_type": "execute_result",
          "data": {
            "text/plain": [
              "1.0"
            ]
          },
          "metadata": {},
          "execution_count": 33
        }
      ]
    },
    {
      "cell_type": "code",
      "source": [
        "np.linalg.norm(m_identidad[2,:])"
      ],
      "metadata": {
        "colab": {
          "base_uri": "https://localhost:8080/"
        },
        "id": "GY2oZ6relDfj",
        "outputId": "4ac54327-c145-4fd2-bd7c-79dbde5d3358"
      },
      "execution_count": null,
      "outputs": [
        {
          "output_type": "execute_result",
          "data": {
            "text/plain": [
              "1.0"
            ]
          },
          "metadata": {},
          "execution_count": 34
        }
      ]
    },
    {
      "cell_type": "markdown",
      "source": [
        "Repetir el ejercicio con la siguiente matriz:\n",
        "\n",
        "[2/3, 1/3, 2/3]\n",
        "\n",
        "[-2/3, 2/3, 1/3]\n",
        "\n",
        "[1/3, 2/3 ,2/3]"
      ],
      "metadata": {
        "id": "NbbseBKXlP8D"
      }
    },
    {
      "cell_type": "code",
      "source": [
        "# Creo matriz\n",
        "m_ejercicio = np.array([[2/3, 1/3, 2/3],[-2/3, 2/3, 1/3],[1/3, 2/3, -2/3]])\n",
        "m_ejercicio"
      ],
      "metadata": {
        "colab": {
          "base_uri": "https://localhost:8080/"
        },
        "id": "c8uP7TD8mSKx",
        "outputId": "c146c901-519b-43c0-9f82-fa0ac0d819fa"
      },
      "execution_count": null,
      "outputs": [
        {
          "output_type": "execute_result",
          "data": {
            "text/plain": [
              "array([[ 0.66666667,  0.33333333,  0.66666667],\n",
              "       [-0.66666667,  0.66666667,  0.33333333],\n",
              "       [ 0.33333333,  0.66666667, -0.66666667]])"
            ]
          },
          "metadata": {},
          "execution_count": 38
        }
      ]
    },
    {
      "cell_type": "code",
      "source": [
        "# Comprobamos que todas las columnas son ortogonales entre sí calculando el \"dot product\" entre ellas (debe ser 0)\n",
        "np.dot(m_ejercicio[:,0], m_ejercicio[:,1])"
      ],
      "metadata": {
        "colab": {
          "base_uri": "https://localhost:8080/"
        },
        "id": "CTDuN8mHmfTM",
        "outputId": "a1ab23c3-cb22-41c2-d331-8d8ea024bfd9"
      },
      "execution_count": null,
      "outputs": [
        {
          "output_type": "execute_result",
          "data": {
            "text/plain": [
              "0.0"
            ]
          },
          "metadata": {},
          "execution_count": 39
        }
      ]
    },
    {
      "cell_type": "code",
      "source": [
        "np.dot(m_ejercicio[:,1], m_ejercicio[:,2])"
      ],
      "metadata": {
        "colab": {
          "base_uri": "https://localhost:8080/"
        },
        "id": "kpg6_1ttmkn7",
        "outputId": "91484bce-b776-4cfe-c8bf-4b782a0a517b"
      },
      "execution_count": null,
      "outputs": [
        {
          "output_type": "execute_result",
          "data": {
            "text/plain": [
              "0.0"
            ]
          },
          "metadata": {},
          "execution_count": 40
        }
      ]
    },
    {
      "cell_type": "code",
      "source": [
        "np.dot(m_ejercicio[:,2], m_ejercicio[:,0])"
      ],
      "metadata": {
        "colab": {
          "base_uri": "https://localhost:8080/"
        },
        "id": "LyuBZZyJmn4D",
        "outputId": "bf6c8809-6778-4672-c295-cc7c028d0c91"
      },
      "execution_count": null,
      "outputs": [
        {
          "output_type": "execute_result",
          "data": {
            "text/plain": [
              "0.0"
            ]
          },
          "metadata": {},
          "execution_count": 41
        }
      ]
    },
    {
      "cell_type": "code",
      "source": [
        "# Calculamos el L2 de las filas\n",
        "np.linalg.norm(m_ejercicio[0,:])"
      ],
      "metadata": {
        "colab": {
          "base_uri": "https://localhost:8080/"
        },
        "id": "f3eIt_KUmsfd",
        "outputId": "adf11b62-bb16-484f-82d7-591ebfb2c72e"
      },
      "execution_count": null,
      "outputs": [
        {
          "output_type": "execute_result",
          "data": {
            "text/plain": [
              "1.0"
            ]
          },
          "metadata": {},
          "execution_count": 42
        }
      ]
    },
    {
      "cell_type": "code",
      "source": [
        "np.linalg.norm(m_ejercicio[1,:])"
      ],
      "metadata": {
        "colab": {
          "base_uri": "https://localhost:8080/"
        },
        "id": "t8zy9HNImwNl",
        "outputId": "eb4e4384-fb0b-4eea-e02c-20a9688dc802"
      },
      "execution_count": null,
      "outputs": [
        {
          "output_type": "execute_result",
          "data": {
            "text/plain": [
              "1.0"
            ]
          },
          "metadata": {},
          "execution_count": 43
        }
      ]
    },
    {
      "cell_type": "code",
      "source": [
        "np.linalg.norm(m_ejercicio[2,:])"
      ],
      "metadata": {
        "colab": {
          "base_uri": "https://localhost:8080/"
        },
        "id": "o6KjuPUumyNM",
        "outputId": "0b92c59a-512a-4a35-a178-b181aa987bdb"
      },
      "execution_count": null,
      "outputs": [
        {
          "output_type": "execute_result",
          "data": {
            "text/plain": [
              "1.0"
            ]
          },
          "metadata": {},
          "execution_count": 44
        }
      ]
    },
    {
      "cell_type": "markdown",
      "source": [
        "**Ejercicios de aplicaciones de matrices:**\n",
        "1.   Aplicar la matriz identidad $I_3$ al vector $u$.\n",
        "2.   Aplicar la matriz $B$ al vector $u$.\n",
        "3.   Concatenar el vector $u$ con el vector $u_2$ para formar la matriz $U$, y a continuación aplicar la matriz $B$ a la matriz $U$.\n",
        "\n",
        "Vector ***u***:\n",
        "```\n",
        "[2]\n",
        "[5]\n",
        "[-3]\n",
        "```\n",
        "Vector ***u_2***:\n",
        "```\n",
        "[0]\n",
        "[-4]\n",
        "[6]\n",
        "```\n",
        "Matriz $B$:\n",
        "```\n",
        "[2, 0, -1]\n",
        "[-2, 3, 1]\n",
        "[0, 4, -1]\n",
        "```\n",
        "Nota: Ejercicio realizado con PyTorch"
      ],
      "metadata": {
        "id": "HKTk2eeem8in"
      }
    },
    {
      "cell_type": "markdown",
      "source": [
        "***Aplicar la matriz identidad $I_3$ al vector $u$***"
      ],
      "metadata": {
        "id": "Iwrli1SupdFF"
      }
    },
    {
      "cell_type": "code",
      "source": [
        "# Creo la matriz I_3\n",
        "m_i3 = torch.tensor([[1, 0, 0], [0, 1, 0], [0, 0, 1]])\n",
        "m_i3"
      ],
      "metadata": {
        "id": "EJMOSCfoppqj",
        "outputId": "1aae1d26-3604-410c-cfbe-03698ad6ca54",
        "colab": {
          "base_uri": "https://localhost:8080/"
        }
      },
      "execution_count": null,
      "outputs": [
        {
          "output_type": "execute_result",
          "data": {
            "text/plain": [
              "tensor([[1, 0, 0],\n",
              "        [0, 1, 0],\n",
              "        [0, 0, 1]])"
            ]
          },
          "metadata": {},
          "execution_count": 16
        }
      ]
    },
    {
      "cell_type": "code",
      "source": [
        "# Creo el vector u usando la transposición para que sea un vector vertical\n",
        "v_u = torch.tensor([[2, 5, -3]]).T\n",
        "v_u"
      ],
      "metadata": {
        "id": "0MqtcWVtqJUZ",
        "outputId": "e9035567-c76e-4e59-bf4c-51a8cee31c97",
        "colab": {
          "base_uri": "https://localhost:8080/"
        }
      },
      "execution_count": null,
      "outputs": [
        {
          "output_type": "execute_result",
          "data": {
            "text/plain": [
              "tensor([[ 2],\n",
              "        [ 5],\n",
              "        [-3]])"
            ]
          },
          "metadata": {},
          "execution_count": 14
        }
      ]
    },
    {
      "cell_type": "code",
      "source": [
        "# Aplico la matriz al vector con el dot product\n",
        "torch.matmul(m_i3, v_u)"
      ],
      "metadata": {
        "id": "t-7APojxqTPD",
        "outputId": "7f846510-4477-4fdd-8748-42641cd1b28b",
        "colab": {
          "base_uri": "https://localhost:8080/"
        }
      },
      "execution_count": null,
      "outputs": [
        {
          "output_type": "execute_result",
          "data": {
            "text/plain": [
              "tensor([[ 2],\n",
              "        [ 5],\n",
              "        [-3]])"
            ]
          },
          "metadata": {},
          "execution_count": 17
        }
      ]
    },
    {
      "cell_type": "markdown",
      "source": [
        "***Aplicar la matriz  $B$  al vector $u$***"
      ],
      "metadata": {
        "id": "QwoyNbaArRI6"
      }
    },
    {
      "cell_type": "code",
      "source": [
        "# Creo la matriz B\n",
        "m_b = torch.tensor([[2, 0, -1], [-2, 3, 1], [0, 4, -1]])\n",
        "m_b"
      ],
      "metadata": {
        "id": "R2NOKyl1rc34",
        "outputId": "beaf09ae-0c4d-40dd-96e8-3fdaff659cf4",
        "colab": {
          "base_uri": "https://localhost:8080/"
        }
      },
      "execution_count": null,
      "outputs": [
        {
          "output_type": "execute_result",
          "data": {
            "text/plain": [
              "tensor([[ 2,  0, -1],\n",
              "        [-2,  3,  1],\n",
              "        [ 0,  4, -1]])"
            ]
          },
          "metadata": {},
          "execution_count": 18
        }
      ]
    },
    {
      "cell_type": "code",
      "source": [
        "# Aplico la matriz B al vector u con el dot product\n",
        "torch.matmul(m_b, v_u)"
      ],
      "metadata": {
        "id": "8DmD6u9rrxzZ",
        "outputId": "df0b47dc-3d52-48ab-ff41-e6072443a389",
        "colab": {
          "base_uri": "https://localhost:8080/"
        }
      },
      "execution_count": null,
      "outputs": [
        {
          "output_type": "execute_result",
          "data": {
            "text/plain": [
              "tensor([[ 7],\n",
              "        [ 8],\n",
              "        [23]])"
            ]
          },
          "metadata": {},
          "execution_count": 19
        }
      ]
    },
    {
      "cell_type": "markdown",
      "source": [
        "***Concatenar el vector $u$ con el vector $u_2$ para formar la matriz  $U$ , y a continuación aplicar la matriz $B$ a la matriz $U$***"
      ],
      "metadata": {
        "id": "HSuPSgihsAI5"
      }
    },
    {
      "cell_type": "code",
      "source": [
        "# Creo el vector u_2\n",
        "v_u2 = torch.tensor([[0, -4, 6]]).T\n",
        "v_u2"
      ],
      "metadata": {
        "id": "hozDTWyDsaZB",
        "outputId": "28a8009b-fb97-40b8-df2b-faebe50bdd5b",
        "colab": {
          "base_uri": "https://localhost:8080/"
        }
      },
      "execution_count": null,
      "outputs": [
        {
          "output_type": "execute_result",
          "data": {
            "text/plain": [
              "tensor([[ 0],\n",
              "        [-4],\n",
              "        [ 6]])"
            ]
          },
          "metadata": {},
          "execution_count": 20
        }
      ]
    },
    {
      "cell_type": "code",
      "source": [
        "# Concateno ambos vectores\n",
        "m_u = torch.cat((v_u.T, v_u2.T), 0).T\n",
        "m_u"
      ],
      "metadata": {
        "id": "pKRgD29nsvXD",
        "outputId": "a3c6d9a9-8ebc-49ef-cb42-2ded865c2072",
        "colab": {
          "base_uri": "https://localhost:8080/"
        }
      },
      "execution_count": null,
      "outputs": [
        {
          "output_type": "execute_result",
          "data": {
            "text/plain": [
              "tensor([[ 2,  0],\n",
              "        [ 5, -4],\n",
              "        [-3,  6]])"
            ]
          },
          "metadata": {},
          "execution_count": 25
        }
      ]
    },
    {
      "cell_type": "code",
      "source": [
        "# Aplico la matriz B a la matriz U\n",
        "torch.matmul(m_b, m_u)"
      ],
      "metadata": {
        "id": "qviAzRR8tbKC",
        "outputId": "3ca79b8a-c7e1-4d1b-8b9f-8b9690082005",
        "colab": {
          "base_uri": "https://localhost:8080/"
        }
      },
      "execution_count": null,
      "outputs": [
        {
          "output_type": "execute_result",
          "data": {
            "text/plain": [
              "tensor([[  7,  -6],\n",
              "        [  8,  -6],\n",
              "        [ 23, -22]])"
            ]
          },
          "metadata": {},
          "execution_count": 26
        }
      ]
    }
  ]
}